{
 "cells": [
  {
   "cell_type": "markdown",
   "metadata": {},
   "source": [
    "## Homework 2, Intro to NLP, 2017\n",
    "\n",
    "#### This is due at 11pm on Tuesday, October 10. Please see detailed submission instructions below.  100 points total.\n",
    "\n",
    "##### How to do this problem set:\n",
    "\n",
    "- What version of Python should I use? 2.7\n",
    "\n",
    "- Most of these questions require writing Python code and computing results, and the rest of them have textual answers. To generate the answers, you will have to fill out supporting files, `vit_starter.py`,`classperc.py` and `structperc.py`.\n",
    "\n",
    "- Write all the answers in this ipython notebook. Once you are finished (1) Generate a PDF via (File -> Download As -> PDF) and upload to Gradescope (2)Turn in `vit_starter.py`, `classperc.py`, `structperc.py` and `hw_2.ipynb` on Moodle.\n",
    "  \n",
    "- **Important:** Check your PDF before you turn it in to gradescope to make sure it exported correctly. If ipython notebook gets confused about your syntax it will sometimes terminate the PDF creation routine early. You are responsible for checking for these errors. If your whole PDF does not print, try running `$jupyter nbconvert --to pdf hw_1.ipynb` to identify and fix any syntax errors that might be causing problems.\n",
    "\n",
    "- **Important:** When creating your final version of the PDF to hand in, please do a fresh restart and execute every cell in order. Then you'll be sure it's actually right. One convenient way to do this is by clicking `Cell -> Run All` in the notebook menu.\n",
    " "
   ]
  },
  {
   "cell_type": "code",
   "execution_count": 1,
   "metadata": {
    "collapsed": false
   },
   "outputs": [
    {
     "data": {
      "text/plain": [
       "'%autoreload'"
      ]
     },
     "execution_count": 1,
     "metadata": {},
     "output_type": "execute_result"
    }
   ],
   "source": [
    "\n",
    "\"%autoreload\""
   ]
  },
  {
   "cell_type": "markdown",
   "metadata": {},
   "source": [
    "##### Academic honesty \n",
    "\n",
    "- We will audit the Moodle code from a few dozen students, chosen at random. The audits will check that the code you wrote and turned on Moodle generates the answers you turn in on your Gradescope PDF. If you turn in correct answers on your PDF without code that actually generates those answers, we will consider this a potential case of cheating. See the course page for honesty policies.\n",
    "\n",
    "- We will also run automatic checks of code on Moodle for plagiarism. Copying code from others is considered a serious case of cheating."
   ]
  },
  {
   "cell_type": "markdown",
   "metadata": {},
   "source": [
    "## 1. HMM (15 points)"
   ]
  },
  {
   "cell_type": "markdown",
   "metadata": {},
   "source": [
    "Answer the following questions using the transition matrix\n",
    "$T$ and emission probabilities $E$ below. Below, $\\Delta$ and $\\Box$\n",
    "are two output variables, $A$ and $B$ are two hidden states; $s_n$ refers to\n",
    "the $n^{th}$ hidden state in the sequence and $o_n$ refers to the\n",
    "$n^{th}$ observation.\n",
    "\n",
    "<img src=\"2.png\"> \n",
    "\n",
    "For all the questions in this section, write answer and show your work."
   ]
  },
  {
   "cell_type": "markdown",
   "metadata": {},
   "source": [
    "**Question 1.1 (2 points)**\n",
    "\n",
    "Does $P(o_2=\\Delta|s_1=B) = P(o_2=\\Delta|o_1=\\Box)$?"
   ]
  },
  {
   "cell_type": "markdown",
   "metadata": {
    "collapsed": true
   },
   "source": [
    "False\n",
    "\n",
    "$P(o_2=\\Delta|s_1=B)$ = 0.4*0.5 + 0.4*0.3 = 0.32\n",
    "\n",
    "\n",
    "$P(o_2=\\Delta|o_1=\\Box)$ = 0.224 \n",
    "\n",
    "\n",
    "$P(o_2=\\Delta|s_1=B) \\ne P(o_2=\\Delta|o_1=\\Box)$"
   ]
  },
  {
   "cell_type": "markdown",
   "metadata": {},
   "source": [
    "**Question 1.2 (2 points)**\n",
    "\n",
    "Does $P(s_2=B|s_1=A) = P(s_2=B|s_1=A, o_1 = \\Delta)$?"
   ]
  },
  {
   "cell_type": "markdown",
   "metadata": {
    "collapsed": true
   },
   "source": [
    "True\n",
    "\n",
    "$P(s_2=B|s_1=A)$ = 0.4\n",
    "\n",
    "$P(s_2=B|s_1=A, o_1 = \\Delta)$ = \n",
    "\n",
    "$P(s_2=B,s_1=A, o_1 = \\Delta)$ / $P(s_1=A, o_1 = \\Delta)$\n",
    "\n",
    "Solving the above equation we get $P(s_2=B|s_1=A, o_1 = \\Delta)$ = 0.4\n",
    "\n",
    "That means: - \n",
    "\n",
    "$P(s_2=B|s_1=A) = P(s_2=B|s_1=A, o_1 = \\Delta)$"
   ]
  },
  {
   "cell_type": "markdown",
   "metadata": {},
   "source": [
    "**Question 1.3 (3 points)**\n",
    "\n",
    "Does $P(o_2=\\Delta|s_1=A) = P(o_2=\\Box|s_1=A, s_3=A)$"
   ]
  },
  {
   "cell_type": "markdown",
   "metadata": {
    "collapsed": true
   },
   "source": [
    "False\n",
    "\n",
    "$P(o_2=\\Delta|s_1=A)$ = $0.2*0.5 + 0.3*0.3$ = $0.19$\n",
    "\n",
    "$P(o_2=\\Box|s_1=A, s_3=A) = P(o_2=\\Box,s_3=A| s_1=A)/ P(s_3 = A|s_1 = A)$\n",
    "\n",
    "$= (P(o_2=\\Box,s_2 = A,s_3=A| s_1=A) + P(o_2=\\Box,s_2 = B,s_3=A| s_1=A))/P(s_3 = A|s_1 = A)$ \n",
    "\n",
    "$(P(o_2=\\Box,s_2 = A,s_3=A| s_1=A) = 0.02$\n",
    "\n",
    "$P(o_2=\\Box,s_2 = B,s_3=A| s_1=A) = 0.084$\n",
    "\n",
    "$P(o_2=\\Box|s_1=A, s_3=A) = 0.65$\n",
    "\n",
    "$P(o_2=\\Delta|s_1=A) != P(o_2=\\Box|s_1=A, s_3=A)$\n",
    "\n"
   ]
  },
  {
   "cell_type": "markdown",
   "metadata": {},
   "source": [
    "**Question 1.4 (3 points)**\n",
    "\n",
    "Compute the probability of observing $\\Box$ as the first emission of a sequence generated by an HMM with transition\n",
    "matrix $T$ and emission probabilities $E$."
   ]
  },
  {
   "cell_type": "markdown",
   "metadata": {
    "collapsed": true
   },
   "source": [
    "1st emmision refer to the emmision by the s1. \n",
    "\n",
    "we need to calculate  $P(o_1 = \\Box)$\n",
    "\n",
    "$P(o_1 = \\Box) = P(o_1 = \\Box, s_1 = A) + P(o_1 = \\Box, s_1 = B)$\n",
    "\n",
    "$P(o_1 = \\Box) = 0.6$\n"
   ]
  },
  {
   "cell_type": "markdown",
   "metadata": {},
   "source": [
    "**Question 1.5 (5 points)**\n",
    "\n",
    "Compute the probability of the first state being $A$ given that the last token in an observed sequence of length 2\n",
    "was the token $\\Delta$."
   ]
  },
  {
   "cell_type": "markdown",
   "metadata": {
    "collapsed": true
   },
   "source": [
    "we need to compute $p(s_1 = A| o_2 = \\Delta)$\n",
    "\n",
    "$p(s_1 = A| o_2 = \\Delta) = p(s_1 = A, o_2 = \\Delta)/P(o_2 = \\Delta) $\n",
    "\n",
    "$p(s_1 = A| o_2 = \\Delta) = 0.3725$\n"
   ]
  },
  {
   "cell_type": "markdown",
   "metadata": {},
   "source": [
    "## 2. Viterbi (log-additive form) (20 points)"
   ]
  },
  {
   "cell_type": "markdown",
   "metadata": {},
   "source": [
    "<img src=\"1.png\"> \n",
    "\n",
    "\n",
    "\n",
    "One HMM chain is shown on the left.  The corresponding **factor graph** version is shown on the right.\n",
    "This simply shows the structure of the $A$ and $B_t$ log-prob tables and which variables they express\n",
    "preferences over. $A$ is the **transition factor** that has preferences for the two neighboring\n",
    "variables; for example, $A(y_1,y_2)$ shows how happy the model is with the transition from $y_1$ to $y_2$.\n",
    "The same transition preference function is used at all positions $(t-1,t)$ for each $t=2..T$.\n",
    "$B_t$ is the **emission factor** that has preferences for the variable $y_t$.\n",
    "As a goodness function it is e.g. $B_1(y_1)$, $B_2(y_2)$, etc.\n",
    "\n",
    "Let $\\vec{y} = (y_1,y_2,...,y_T)$, a proposed tag sequence for a $T$ length sentence.\n",
    "The total goodness function for a solution $\\vec{y}$ is\n",
    "\n",
    "$$ G(\\vec{y}) = \\sum_{t=1}^{T} B_t(y_t)  + \\sum_{t=2}^{T} A(y_{t-1},y_t) $$\n"
   ]
  },
  {
   "cell_type": "markdown",
   "metadata": {},
   "source": [
    "**Question 2.1 (2 points)**\n",
    "\n",
    "Define $A$ and $B_t$ in terms of the HMM model, such that $G$ is the same thing as $\\log p(\\vec{y},\\vec{w})$ under the HMM."
   ]
  },
  {
   "cell_type": "markdown",
   "metadata": {
    "collapsed": false
   },
   "source": [
    "$A(x) = log(p(w_t/x)) $ for $x \\geq 2$  $ x \\in I$ \n",
    " \n",
    "$B_t(x) = log(p(w_t/x))$ $x \\geq 1$ $ x \\in I$ \n"
   ]
  },
  {
   "cell_type": "markdown",
   "metadata": {},
   "source": [
    "**Question 2.2 (18 points)**\n",
    "\n",
    "Implement additive log-space Viterbi by completing the **viterbi()** function. It takes in tables that represent the $A$ and $B$ functions as input.  We give you an implementation of $G()$ in **vit_starter**, you can check to make sure you understand the data structures, and also the exhaustive decoding algorithm too.  Feel free to add debugging print statements as needed.  The main code runs the exercise example by default.\n",
    "\n",
    "When debugging, you should make new A and B examples that are very simple. This will test different code paths.  Also you can try the **randomized\\_test()** from the starter code.\n",
    "\n",
    "Look out for negative indexes as a bug.  In python, if you use an index that's too high to be in the list, it throws an error.  But it will silently accept a negative index ... it interprets that as indexing from the right.\n"
   ]
  },
  {
   "cell_type": "code",
   "execution_count": 2,
   "metadata": {
    "collapsed": false
   },
   "outputs": [
    {
     "name": "stdout",
     "output_type": "stream",
     "text": [
      "Exhaustive decoding: [0, 0, 0]\n",
      "score: 36\n",
      "Viterbi    decoding: [1, 1, 0]\n"
     ]
    }
   ],
   "source": [
    "# Implement the viterbi() function in vit_starter.py and then run this cell to show your output\n",
    "\n",
    "from vit_starter import *\n",
    "\n",
    "if __name__=='__main__':\n",
    "    A = {(0,0):3, (0,1):0, (1,0):0, (1,1):3}\n",
    "    Bs= [ [0,1], [0,1], [30,0] ]\n",
    "    # that's equivalent to: [ {0:0,1:1}, {0:0,1:1}, {0:30,1:0} ]\n",
    "\n",
    "    y = exhaustive(A, Bs, set([0,1]))\n",
    "    print \"Exhaustive decoding:\", y\n",
    "    print \"score:\", goodness_score(y, A, Bs)\n",
    "    y = viterbi(A, Bs, set([0,1]))\n",
    "    print \"Viterbi    decoding:\", y\n"
   ]
  },
  {
   "cell_type": "markdown",
   "metadata": {},
   "source": [
    "**Copy and paste the viterbi function that you implemented in `vit_starter.py`.**"
   ]
  },
  {
   "cell_type": "code",
   "execution_count": 3,
   "metadata": {
    "collapsed": true
   },
   "outputs": [],
   "source": [
    "def viterbi(A_factor, B_factors, output_vocab):\n",
    "    \"\"\"\n",
    "    A_factor: a dict of key:value pairs of the form\n",
    "        {(curtag,nexttag): score}\n",
    "    with keys for all K^2 possible neighboring combinations,\n",
    "    and scores are numbers.  We assume they should be used ADDITIVELY, i.e. in log space.\n",
    "    higher scores mean MORE PREFERRED by the model.\n",
    "\n",
    "    B_factors: a list where each entry is a dict {tag:score}, so like\n",
    "    [ {Noun:-1.2, Adj:-3.4}, {Noun:-0.2, Adj:-7.1}, .... ]\n",
    "    each entry in the list corresponds to each position in the input.\n",
    "\n",
    "    output_vocab: a set of strings, which is the vocabulary of possible output\n",
    "    symbols.\n",
    "\n",
    "    RETURNS:\n",
    "    the tag sequence yvec with the highest goodness score\n",
    "    \"\"\"\n",
    "\n",
    "    N = len(B_factors)   # length of input sentence\n",
    "\n",
    "    # viterbi log-prob tables\n",
    "    V = [{tag:None for tag in output_vocab} for t in range(N)]\n",
    "    # backpointer tables\n",
    "    # back[0] could be left empty. it will never be used.\n",
    "    back = [{tag:None for tag in output_vocab} for t in range(N)]\n",
    "    V[0]={tag:B_factors[0][tag] for tag in output_vocab}\n",
    "    for t in range(1,N):\n",
    "        for tag in output_vocab:\n",
    "            max_vit=-1*float(\"inf\")\n",
    "            for prev_tag in output_vocab:\n",
    "                vit_score= V[t-1][prev_tag] + A_factor[prev_tag,tag] + B_factors[t][tag]\n",
    "                if vit_score > max_vit:\n",
    "                    max_vit=vit_score\n",
    "                    V[t][tag] = vit_score\n",
    "                    back[t][tag]= prev_tag\n",
    "    best_tag=dict_argmax(V[N-1])\n",
    "    bestseq=[best_tag]\n",
    "    for t in range(N-1,0,-1):\n",
    "        best_tag = back[t][best_tag]\n",
    "        bestseq.append(best_tag)\n",
    "    bestseq.reverse()\n",
    "    return bestseq"
   ]
  },
  {
   "cell_type": "markdown",
   "metadata": {},
   "source": [
    "## 3. Averaged Perceptron (5 points)"
   ]
  },
  {
   "cell_type": "markdown",
   "metadata": {},
   "source": [
    "We will be using the following definition of the perceptron, which is\n",
    "the multiclass or structured version of the perceptron.\n",
    "The training set is a bunch of input-output pairs $(x_i,y_i)$.\n",
    "(For classification, $y_i$ is a label, but for tagging, $y_i$ is a sequence). The training algorithm is as follows:\n",
    "\n",
    "For T iterations, iterate through each $(x_i,y_i)$ pair in the dataset, and for each,\n",
    "   1. Predict $y^* := \\arg\\max_{y'} \\theta^T f(x_i, y')$\n",
    "   2. If $y_i \\neq y^*$: then update $\\theta := \\theta^{(old)} + r g$\n",
    "\n",
    "\n",
    "where $r$ is a fixed step size (e.g. $r=1$)\n",
    "and $g$ is the *gradient vector*, meaning a vector that will get added\n",
    "into $\\theta$ for the update, specifically\n",
    "$$ g = \\underbrace{f(x_i,y_i)}_{\\text{feats of true output}} -  \\underbrace{f(x_i,y^*)}_{\\text{feats of predicted output}} $$\n",
    "\n",
    "Both in theory and in practice, the predictive accuracy of a model trained by the structured perceptron will be better if we use the average value of $\\theta$ over the course of training, rather than the final value of $\\theta$. This is because $\\theta$ wanders around and doesn't converge (typically), because it overfits to whatever data it saw most recently.\n",
    "After seeing $t$ training examples, define the *averaged parameter vector* as\n",
    "<img src=\"4.png\"> \n",
    "\n",
    "where $\\theta_{t'}$ is the weight vector after $t'$ updates.  (We are counting $t$ by the number of training examples, not passes through the data.  So if you had 1000 examples and made 10 passes through the data in order, the final time you see the final example is $t=10000$.)\n",
    "For training, you still use the current $\\theta$ parameter for predictions.\n",
    "But at the very end,\n",
    "you return the $\\bar{\\theta}$, not $\\theta$, as your final model parameters to use on test data.\n",
    "\n",
    "Directly implementing equation (1) would be really slow.  So here's a better algorithm.  This is the same as in Hal Daume's CIML chapter on perceptrons, but adapted for the structured case (as opposed to Daume's algorithm, which assumes binary output).  Define $g_t$ to be the update vector $g$ as described earlier. The perceptron update can be written\n",
    "$$ \\theta_t = \\theta_{t-1} + r g_t $$\n",
    "\n",
    "Thus the averaged perceptron algorithm is, using a new 'weightsums' vector $S$,\n",
    "\n",
    " 1. Initialize $t=1, \\theta_0=\\vec{0}, S_0=\\vec{0}$\n",
    " 2. For each example $i$ (iterating multiples times through dataset),\n",
    "   - Predict $y^* = \\arg\\max_{y'} \\theta^T f(x_i, y')$\n",
    "   - Let $g_t = f(x_i, y_i)-f(x_i, y^*)$\n",
    "   - Update $\\theta_t = \\theta_{t-1} + r g_t$\n",
    "   - Update $S_t = S_{t-1} + (t-1) r g_t$\n",
    "   - $t := t+1$\n",
    "   \n",
    " 3. Calculate $\\bar{\\theta}$ based on $S$\n",
    "\n",
    "\n",
    "In an actual implementation, you don't keep old versions of $S$ or $\\theta$ around ...\n",
    "above we're using the $t$ subscripts above just to make the mathematical analysis clearer.\n",
    "\n",
    "Our proposed algorithm computes $\\bar{\\theta}_t$ as\n",
    "<img src=\"5.png\"> \n",
    "\n",
    "For the following problems, feel free to set $r=1$ just to simplify them.\n",
    "\n",
    "For following questions write only math answers, no code required."
   ]
  },
  {
   "cell_type": "markdown",
   "metadata": {},
   "source": [
    "**Question 3.1** (1 point)\n",
    "\n",
    "What is the computational advantage\n",
    "of computing $\\bar{\\theta}$ using Equation (2)\n",
    "instead of\n",
    "directly implementing\n",
    "Equation (1)?\n"
   ]
  },
  {
   "cell_type": "markdown",
   "metadata": {
    "collapsed": true
   },
   "source": [
    "Ans :- So we dont need to store any intermediate ${\\theta_t}$ in order to calculate $\\bar{\\theta_t}$, we will use final $s_t$ and ${\\theta_t}$ to calculate $\\bar{\\theta_t}$\n"
   ]
  },
  {
   "cell_type": "markdown",
   "metadata": {},
   "source": [
    "Now we'll show this works, at least for early iterations.\n",
    "\n",
    "**Question 3.2** (1 point)\n",
    "\n",
    "\n",
    "What are $\\bar{\\theta}_1$, $\\bar{\\theta}_2$, $\\bar{\\theta}_3$, and $\\bar{\\theta}_4$?\n",
    "Please derive them from \n",
    "the Equation (1) definition,\n",
    "and state them in terms of $g_1$, $g_2$, $g_3$, and/or $g_4$."
   ]
  },
  {
   "cell_type": "markdown",
   "metadata": {
    "collapsed": true
   },
   "source": [
    "$\\bar{\\theta}_1 = g_1$\n",
    "\n",
    "$\\bar{\\theta}_2 = (2*g_1 + g_2)/2$\n",
    "    \n",
    "$\\bar{\\theta}_3 = (3*g_1 + 2*g_2 + g_3)/3$\n",
    "\n",
    "$\\bar{\\theta}_4 = (4*g_1 + 3*g_2 + 2*g_3 + g_4)/4$"
   ]
  },
  {
   "cell_type": "markdown",
   "metadata": {},
   "source": [
    "**Question 3.3** (1 point)\n",
    "\n",
    "What are $S_1$, $S_2$, $S_3$, and $S_4$?\n",
    "Please state them in terms of $g_1$, $g_2$, $g_3$, and/or $g_4$."
   ]
  },
  {
   "cell_type": "markdown",
   "metadata": {
    "collapsed": true
   },
   "source": [
    "$s_1 = 0$\n",
    "\n",
    "$s_2 = g_2$\n",
    "\n",
    "$s_3 = g_2 + 2*g_3$\n",
    "\n",
    "$s_4 = g_2 + 2*g_3 + 3*g_4$\n",
    "\n",
    "$s_T = \\sum_{t = 1}^{T} (t - 1)*g_t$ "
   ]
  },
  {
   "cell_type": "markdown",
   "metadata": {},
   "source": [
    "**Question 3.4** (2 points)\n",
    "\n",
    "Show that Equation (2) correctly computes $\\bar{\\theta}_3$ and $\\bar{\\theta}_4$."
   ]
  },
  {
   "cell_type": "markdown",
   "metadata": {
    "collapsed": true
   },
   "source": [
    "$\\bar{\\theta}_3 = (3*g_1 + 2*g_2 + g_1)/ 3$\n",
    "\n",
    "${\\theta}_3 = g_1 + g_2 + g_1$\n",
    "\n",
    "$\\bar{\\theta}_3 = {\\theta}_3 - (g_2 + 3*g_3)/ 3$\n",
    "\n",
    "$= \\bar{\\theta}_3 - s_3/3$\n",
    "\n",
    "The same is true for the $\\bar{\\theta}_4$ using the formula\n",
    "\n",
    "$\\bar{\\theta}_T = {\\theta}_T - s_T/T$\n",
    "\n",
    "\n",
    "\n",
    "\n"
   ]
  },
  {
   "cell_type": "markdown",
   "metadata": {},
   "source": [
    "**Question 3.5** (2 Extra Credit points)\n",
    "\n",
    "Use proof by induction\n",
    "to show that this algorithm correctly computes $\\bar{\\theta}_t$ for any $t$."
   ]
  },
  {
   "cell_type": "markdown",
   "metadata": {
    "collapsed": true
   },
   "source": [
    "$\\bar{\\theta}_1 = {\\theta}_1 - s_1 = g_1$\n",
    "\n",
    "$\\bar{\\theta}_2 = {\\theta}_2 - s_2/2 = g_1 + g_2/2$\n",
    "\n",
    "We can assume now \n",
    "\n",
    "$\\bar{\\theta}_T = {\\theta}_T - s_T/T$\n",
    "\n",
    "$\\bar{\\theta}_{T + 1} = {\\theta}_{T + 1} - s_{T + 1}/(T + 1)$\n",
    "\n",
    "$RHS$\n",
    "\n",
    "\n",
    "$\\bar{\\theta}_{T + 1} = \\sum_{t = 1}^{T} {\\theta_t} / (t + 1) = \\bar{\\theta_t}* t/ (t + 1) + \\theta_{t + 1}/ (t + 1)$\n",
    "\n",
    "$LHS$\n",
    "\n",
    "${\\theta}_{T + 1} - s_{T + 1}/(T + 1) = {\\theta}_t + g_{t + 1} - (s_t + g_{t + 1})/(t + 1)$\n",
    "\n",
    "\n",
    "${\\theta}_t - s_t/(t + 1) + g_{t + 1}/(t + 1) $\n",
    "\n",
    "putting $s_t = t({\\theta}_t - \\bar{\\theta}_t)$\n",
    "\n",
    "${\\theta}_t - s_t/(t + 1) + g_{t + 1}/(t + 1) = t*{\\theta}_t/(t + 1) + ({\\theta}_t + g_{t + 1})/(t + 1) = \\bar{\\theta}_{t + 1}$\n",
    "\n",
    "So, by induction we can say,\n",
    "\n",
    "$\\bar{\\theta}_{T + 1} = {\\theta}_{T + 1} - s_{T + 1}/(T + 1)$"
   ]
  },
  {
   "cell_type": "markdown",
   "metadata": {},
   "source": [
    "## 4. Classifier Perceptron (20 points)\n",
    "\n"
   ]
  },
  {
   "cell_type": "markdown",
   "metadata": {},
   "source": [
    "Implement the averaged perceptron for document classification, using the same\n",
    "sentiment analysis dataset as you used for HW1.\n",
    "On the first two questions, we're asking you to develop using only a subset of the data,\n",
    "since that makes debugging easier. On the third question, you'll run\n",
    "on the full dataset, and \n",
    "you should be able to achieve a higher accuracy compared to your previous\n",
    "Naive Bayes implementation.\n",
    "Starter code is provided in `classperc.py`.\n"
   ]
  },
  {
   "cell_type": "markdown",
   "metadata": {},
   "source": [
    "**Question 4.1** (8 points) \n",
    "\n",
    "Implement the simple, non-averaged perceptron.  Run your\n",
    "code on **the first 1000 training instances** for 10\n",
    "  passes through the training data. For each pass, report **the\n",
    "  training and test set accuracies**. "
   ]
  },
  {
   "cell_type": "code",
   "execution_count": 8,
   "metadata": {
    "collapsed": false
   },
   "outputs": [
    {
     "name": "stdout",
     "output_type": "stream",
     "text": [
      "[constructing dataset...]\n",
      "\treading data from large_movie_review_dataset/train\\pos\n",
      "\treading data from large_movie_review_dataset/train\\neg\n",
      "[dataset constructed.]\n",
      "[constructing dataset...]\n",
      "\treading data from large_movie_review_dataset/test\\pos\n",
      "\treading data from large_movie_review_dataset/test\\neg\n",
      "[dataset constructed.]\n",
      "[training...]\n",
      "\tTraining iteration 0\n",
      "TR RAW EVAL: 1000/1000 = 1.0000 accuracy\n",
      "DEV RAW EVAL: 1000/1000 = 1.0000 accuracy\n",
      "\tTraining iteration 1\n",
      "TR RAW EVAL: 1000/1000 = 1.0000 accuracy\n",
      "DEV RAW EVAL: 1000/1000 = 1.0000 accuracy\n",
      "\tTraining iteration 2\n",
      "TR RAW EVAL: 1000/1000 = 1.0000 accuracy\n",
      "DEV RAW EVAL: 1000/1000 = 1.0000 accuracy\n",
      "\tTraining iteration 3\n",
      "TR RAW EVAL: 1000/1000 = 1.0000 accuracy\n",
      "DEV RAW EVAL: 1000/1000 = 1.0000 accuracy\n",
      "\tTraining iteration 4\n",
      "TR RAW EVAL: 1000/1000 = 1.0000 accuracy\n",
      "DEV RAW EVAL: 1000/1000 = 1.0000 accuracy\n",
      "\tTraining iteration 5\n",
      "TR RAW EVAL: 1000/1000 = 1.0000 accuracy\n",
      "DEV RAW EVAL: 1000/1000 = 1.0000 accuracy\n",
      "\tTraining iteration 6\n",
      "TR RAW EVAL: 1000/1000 = 1.0000 accuracy\n",
      "DEV RAW EVAL: 1000/1000 = 1.0000 accuracy\n",
      "\tTraining iteration 7\n",
      "TR RAW EVAL: 1000/1000 = 1.0000 accuracy\n",
      "DEV RAW EVAL: 1000/1000 = 1.0000 accuracy\n",
      "\tTraining iteration 8\n",
      "TR RAW EVAL: 1000/1000 = 1.0000 accuracy\n",
      "DEV RAW EVAL: 1000/1000 = 1.0000 accuracy\n",
      "\tTraining iteration 9\n",
      "TR RAW EVAL: 1000/1000 = 1.0000 accuracy\n",
      "DEV RAW EVAL: 1000/1000 = 1.0000 accuracy\n",
      "[learned weights for 0 features from 1000 examples.]\n"
     ]
    }
   ],
   "source": [
    "\"autoreload\"\n",
    "from classperc import *\n",
    "training_set = construct_dataset(train=True)\n",
    "test_set = construct_dataset(train=False)\n",
    "\n",
    "vanilla_dict = train(training_set[0:1000], stepsize=10, numpasses=10, do_averaging=False, devdata=test_set[0:1000])\n",
    "# Please find the accuracy in below"
   ]
  },
  {
   "cell_type": "markdown",
   "metadata": {},
   "source": [
    "**Question 4.2** (8 points)\n",
    "\n",
    "Implement the averaged perceptron. Run your code on\n",
    "**the first 1000 training instances** for 10 passes\n",
    "  through the training data. For each pass, compute the\n",
    "$\\bar{\\theta}$ so far, and report its **test set accuracy**."
   ]
  },
  {
   "cell_type": "code",
   "execution_count": 9,
   "metadata": {
    "collapsed": false
   },
   "outputs": [
    {
     "name": "stdout",
     "output_type": "stream",
     "text": [
      "[training...]\n",
      "\tTraining iteration 0\n",
      "TR RAW EVAL: 1000/1000 = 1.0000 accuracy\n",
      "DEV RAW EVAL: 1000/1000 = 1.0000 accuracy\n",
      "DEV AVG EVAL: 1000/1000 = 1.0000 accuracy\n",
      "\tTraining iteration 1\n",
      "TR RAW EVAL: 1000/1000 = 1.0000 accuracy\n",
      "DEV RAW EVAL: 1000/1000 = 1.0000 accuracy\n",
      "DEV AVG EVAL: 1000/1000 = 1.0000 accuracy\n",
      "\tTraining iteration 2\n",
      "TR RAW EVAL: 1000/1000 = 1.0000 accuracy\n",
      "DEV RAW EVAL: 1000/1000 = 1.0000 accuracy\n",
      "DEV AVG EVAL: 1000/1000 = 1.0000 accuracy\n",
      "\tTraining iteration 3\n",
      "TR RAW EVAL: 1000/1000 = 1.0000 accuracy\n",
      "DEV RAW EVAL: 1000/1000 = 1.0000 accuracy\n",
      "DEV AVG EVAL: 1000/1000 = 1.0000 accuracy\n",
      "\tTraining iteration 4\n",
      "TR RAW EVAL: 1000/1000 = 1.0000 accuracy\n",
      "DEV RAW EVAL: 1000/1000 = 1.0000 accuracy\n",
      "DEV AVG EVAL: 1000/1000 = 1.0000 accuracy\n",
      "\tTraining iteration 5\n",
      "TR RAW EVAL: 1000/1000 = 1.0000 accuracy\n",
      "DEV RAW EVAL: 1000/1000 = 1.0000 accuracy\n",
      "DEV AVG EVAL: 1000/1000 = 1.0000 accuracy\n",
      "\tTraining iteration 6\n",
      "TR RAW EVAL: 1000/1000 = 1.0000 accuracy\n",
      "DEV RAW EVAL: 1000/1000 = 1.0000 accuracy\n",
      "DEV AVG EVAL: 1000/1000 = 1.0000 accuracy\n",
      "\tTraining iteration 7\n",
      "TR RAW EVAL: 1000/1000 = 1.0000 accuracy\n",
      "DEV RAW EVAL: 1000/1000 = 1.0000 accuracy\n",
      "DEV AVG EVAL: 1000/1000 = 1.0000 accuracy\n",
      "\tTraining iteration 8\n",
      "TR RAW EVAL: 1000/1000 = 1.0000 accuracy\n",
      "DEV RAW EVAL: 1000/1000 = 1.0000 accuracy\n",
      "DEV AVG EVAL: 1000/1000 = 1.0000 accuracy\n",
      "\tTraining iteration 9\n",
      "TR RAW EVAL: 1000/1000 = 1.0000 accuracy\n",
      "DEV RAW EVAL: 1000/1000 = 1.0000 accuracy\n",
      "DEV AVG EVAL: 1000/1000 = 1.0000 accuracy\n",
      "[learned weights for 0 features from 1000 examples.]\n"
     ]
    }
   ],
   "source": [
    "average_dict = train(training_set[0:1000], stepsize=10, numpasses=10, do_averaging=True, devdata=test_set[0:1000])\n",
    "#please find the accuracy below"
   ]
  },
  {
   "cell_type": "markdown",
   "metadata": {},
   "source": [
    "**Question 4.3** (4 points)\n",
    "\n",
    "Graph four curves on the same plot, using the **full dataset**:\n",
    "- accuracy of the vanilla perceptron on the training set\n",
    "- accuracy of the vanilla perceptron on the test set\n",
    "- accuracy of the averaged perceptron on the test set\n",
    "- accuracy of your Naive Bayes classifier from HW1 (you don't need to re-run it; just take the best accuracy from your previous results).\n",
    "\n",
    "The x-axis of the plot should show the number of iterations through the\n",
    "training set and the y-axis should show the accuracy of the\n",
    "classifier. For this part of the HW run your code on **the\n",
    "  entire dataset** (all instances). Since Naive Bayes doesn't require\n",
    "multiple passes through the data just produce a single horizontal line\n",
    "showing its overall accuracy. Make sure your plot has a title, a\n",
    "label on the x-axis, a label on the y-axis and a legend showing which\n",
    "line is which. Explain verbally what's happening in this plot.\n"
   ]
  },
  {
   "cell_type": "code",
   "execution_count": 2,
   "metadata": {
    "collapsed": false,
    "scrolled": true
   },
   "outputs": [
    {
     "name": "stdout",
     "output_type": "stream",
     "text": [
      "[constructing dataset...]\n",
      "\treading data from large_movie_review_dataset/train\\pos\n",
      "\treading data from large_movie_review_dataset/train\\neg\n",
      "[dataset constructed.]\n",
      "[constructing dataset...]\n",
      "\treading data from large_movie_review_dataset/test\\pos\n",
      "\treading data from large_movie_review_dataset/test\\neg\n",
      "[dataset constructed.]\n",
      "[training...]\n",
      "\tTraining iteration 0\n",
      "\tTraining iteration 100\n",
      "\tTraining iteration 200\n",
      "\tTraining iteration 300\n",
      "\tTraining iteration 400\n",
      "\tTraining iteration 500\n",
      "\tTraining iteration 600\n",
      "\tTraining iteration 700\n",
      "\tTraining iteration 800\n",
      "\tTraining iteration 900\n",
      "[learned weights for 78380 features from 2000 examples.]\n",
      "[training...]\n",
      "\tTraining iteration 0\n",
      "\tTraining iteration 100\n",
      "\tTraining iteration 200\n",
      "\tTraining iteration 300\n",
      "\tTraining iteration 400\n",
      "\tTraining iteration 500\n",
      "\tTraining iteration 600\n",
      "\tTraining iteration 700\n",
      "\tTraining iteration 800\n",
      "\tTraining iteration 900\n",
      "[learned weights for 78888 features from 2000 examples.]\n"
     ]
    },
    {
     "data": {
      "text/plain": [
       "<matplotlib.legend.Legend at 0xe9ca4a8>"
      ]
     },
     "execution_count": 2,
     "metadata": {},
     "output_type": "execute_result"
    },
    {
     "data": {
      "image/png": "[encoded data removed]",
      "text/plain": [
       "<matplotlib.figure.Figure at 0x44a7978>"
      ]
     },
     "metadata": {},
     "output_type": "display_data"
    }
   ],
   "source": [
    "from classperc import *\n",
    "training_set = construct_dataset(train=True)\n",
    "test_set = construct_dataset(train=False)\n",
    "vanilla_dict = train(training_set, stepsize=10, numpasses=1000, do_averaging=False, devdata=test_set)\n",
    "average_dict = train(training_set, stepsize=10, numpasses=1000, do_averaging=True, devdata=test_set)\n",
    "\"%autoreload\"\n",
    "%matplotlib inline  \n",
    "from matplotlib import pyplot as plt\n",
    "#from classperc import plot_accuracy_vs_iteration\n",
    "#plot_accuracy_vs_iteration(vanilla_dict, vanilla_dict, average_dict, [0.843])\n",
    "plt.plot(vanilla_dict['train_acc'], [x for x in range(1, 1001)], label = \"vanilla perceptron on the training set\")\n",
    "plt.plot(vanilla_dict['test_acc'], [x for x in range(1, 1001)], label = \"vanilla perceptron on the test set\")\n",
    "plt.plot(average_dict['test_acc'],[x for x in range(1, 1001)], label = \"averaged perceptron on the test set\")\n",
    "plt.plot([0.843 for x in range(1, 1001)],[x for x in range(1, 1001)] , label = \"Naive Bayes classifier\")\n",
    "plt.xlabel(\"Number of iterations\")\n",
    "plt.ylabel(\"Accuracy of the classifier\")\n",
    "plt.title(\"Accuracy of classifier for number of iterations\")\n",
    "plt.legend()\n",
    "\n",
    "## The average perceptron is performing better as compared to the vanilla perceptrons. The vanilla perceptron on the training set,\n",
    "## is clearly overfitting because its performance significantly degrades in the test set."
   ]
  },
  {
   "cell_type": "markdown",
   "metadata": {},
   "source": [
    "## 5. Structured Perceptron with Viterbi (40 points) "
   ]
  },
  {
   "cell_type": "markdown",
   "metadata": {},
   "source": [
    "In this problem, you will implement a part-of-speech tagger for Twitter,\n",
    "using the structured perceptron algorithm.\n",
    "Your system will be not too far off from state of the art performance,\n",
    "coding it all up yourself from scratch!\n",
    "\n",
    "The dataset comes from http://www.ark.cs.cmu.edu/TweetNLP/\n",
    "and is described in the papers listed there (Gimpel et al.~2011 and Owoputi et al.~2013).\n",
    "The Gimpel article describes the tagset; the annotation guidelines on that webpage describe it futher.\n",
    "\n",
    "Your structured perceptron will use your Viterbi implementation from 2.2 as a subroutine.\n",
    "If that's buggy, this will cause many problems here---your perceptron will have really weird behavior.\n",
    "(This happened to us when designing your assignment!)\n",
    "If you have problems, try using the greedy decoding algorithm, which we provide in the starter code.\n",
    "Make sure to note which decoding algorithm you're using in your writeup.\n",
    "\n",
    "The starter code is `structperc.py` and it assumes the two data files `oct27.train`\n",
    "and `oct27.dev` are in the same directory. (For simplicity we're just going to use this `dev` set as our test set.)\n"
   ]
  },
  {
   "cell_type": "markdown",
   "metadata": {},
   "source": [
    "**Question 5.1** (2 points)\n",
    "\n",
    "First let's do a little data analysis to establish the **most common tag** baseline accuracy.\n",
    "Using a small script, load up the dev dataset (oct27.dev) using the function `structperc.read_tagging_file` (from `import structperc`). Calculate the following: What is the most common tag, and what would your accuracy be if you predicted it for all tags?\n",
    "\n",
    "\n"
   ]
  },
  {
   "cell_type": "code",
   "execution_count": 19,
   "metadata": {
    "collapsed": false
   },
   "outputs": [
    {
     "name": "stdout",
     "output_type": "stream",
     "text": [
      "Most common tag :  V\n",
      "Accuracy if most common tag is the output tag : 15.5712212316%\n"
     ]
    }
   ],
   "source": [
    "##Write your code here and show the output\n",
    "import structperc\n",
    "from collections import defaultdict\n",
    "ret= structperc.read_tagging_file(\"oct27.dev\")\n",
    "tag_count=defaultdict(int)\n",
    "for tokens,tags in ret:\n",
    "    for tag in tags:\n",
    "        tag_count[tag] += 1\n",
    "\n",
    "most_common_tag,frequency = max(tag_count.iteritems(),key=lambda k:k[1])\n",
    "print \"Most common tag : \", most_common_tag\n",
    "accuracy = 1.0*frequency/(sum(tag_count.values())) * 100\n",
    "print 'Accuracy if most common tag is the output tag : {0}%'.format(accuracy)"
   ]
  },
  {
   "cell_type": "markdown",
   "metadata": {},
   "source": [
    "The structured perceptron algorithm works very similarly as the classification version you did in the previous question, except the prediction function uses Viterbi as a subroutine, which has to call feature extraction functions for local emissions and transition factors. There also has to be a large overall feature extraction function for an entire structure at once. The following parts will build up these pieces. First, we will focus on inference, not learning.\n",
    "\n",
    "**Question 5.2** (2 points)\n",
    "\n",
    "We provide a barebones version of `local_emission_features`, which calculates the local features for a particular tag at a token position. You can run this function all by itself. Make up an example sentence, and call this function with it, giving it a particular index and candidate tag. Show the code for the function call you made and the function's return value, and explain what the features mean (just a sentence or two)."
   ]
  },
  {
   "cell_type": "code",
   "execution_count": 20,
   "metadata": {
    "collapsed": false
   },
   "outputs": [
    {
     "name": "stdout",
     "output_type": "stream",
     "text": [
      "{'tag=A_curword=This': 1, 'tag=A_biasterm': 1}\n"
     ]
    }
   ],
   "source": [
    "##Show the code for function call with output\n",
    "from structperc import local_emission_features\n",
    "def test_local_emission():\n",
    "    example_sentence = \"This is test\"\n",
    "    tag = 'A'\n",
    "    tokens = example_sentence.split(\" \")\n",
    "    print(local_emission_features(0, tag, tokens))\n",
    "test_local_emission()"
   ]
  },
  {
   "cell_type": "markdown",
   "metadata": {},
   "source": [
    "# This means that we have created a feature f(TAG,CURWORD,null) in the form of a dictionary with \n",
    "$key = “tag = <TAG>$_$curword=<CURWORD>”$."
   ]
  },
  {
   "cell_type": "markdown",
   "metadata": {},
   "source": [
    "**Question 5.3** (2 points)\n",
    "\n",
    "Implement `features_for_seq()`, which extracts the full feature vector $f(x,y)$, where $x$is a sentence and $y$ is an entire tagging sequence for that sentence. This will add up the feature vectors from each local emissions features for every position, as well as transition features for every position (there are $N-1$ of them, of course).\n",
    "Show the output on a very short example sentence and example proposed tagging, that's only 2 or 3 words long.\n",
    "\n",
    "To define $f(x,y)$ a little more precisely: If $f^{(B)}(t,x,y)$ means the local emissions feature vector at position $t$ (i.e. the `local_emission_features` function), and $f^{(A)}(y_{t-1},y_{t}, y)$ is the transition feature function for positions $(t-1,t)$ (which just returns a feature vector where everything is zero, except a single element is 1), then the full sequence feature vector will be the vector-sum of all those feature vectors:\n",
    "$$ f(x,y) = \\sum_t^T f^{(B)}(t,x,y) + \\sum_{t=2}^T f^{(A)}(y_{t-1},y_t) $$\n",
    "You implemented $f^{(B)}$ above.  You probably don't need to bother implementing $f^{(A)}$ as a standalone function.  You will have to decide on a particular convention to encode the name of a transition feature.  For example, one way to do it is with string concatenation like this, `\"trans_%s_%s\" % (prevtag, curtag)`, where prevtag and curtag are strings.  Or you could use a python tuple of strings, which works since\n",
    "tuples have the ability to be keys in a python dictionary.\n",
    "\n",
    "In other words: the emissions and transition features will all be in the same vector, just as keys in the dictionary that represents the feature vector.  The transition features are going to be the count of how many times a particular transition (tag bigram) happened.  The emissions features are going to be the vector-sum of all the local emission features, as calculated from `local_emission_features`."
   ]
  },
  {
   "cell_type": "code",
   "execution_count": 21,
   "metadata": {
    "collapsed": false
   },
   "outputs": [
    {
     "data": {
      "text/plain": [
       "defaultdict(int,\n",
       "            {'tag=A_biasterm': 1,\n",
       "             'tag=A_curword=this': 1,\n",
       "             'tag=N_biasterm': 1,\n",
       "             'tag=N_curword=Code': 1,\n",
       "             'tag=V_biasterm': 1,\n",
       "             'tag=V_curword=Test': 1,\n",
       "             ('A', 'N'): 1,\n",
       "             ('V', 'A'): 1})"
      ]
     },
     "execution_count": 21,
     "metadata": {},
     "output_type": "execute_result"
    }
   ],
   "source": [
    "##Show the call to your function and output\n",
    "example_sentence = \"Test this Code\"\n",
    "tags=[\"V\",\"A\",\"N\"]\n",
    "tokens=example_sentence.split()\n",
    "structperc.features_for_seq(tokens,tags)"
   ]
  },
  {
   "cell_type": "markdown",
   "metadata": {},
   "source": [
    "**Question 5.4** (4 points)\n",
    "\n",
    "Look at the starter code for `calc_factor_scores`, which calculates the A and B score functions that are going to be passed in to your Viterbi implementation from problem 2, in order to do a prediction. The only function it will need to call is `local_emission_features`. It should NOT call `features_for_seq`.  Why not?"
   ]
  },
  {
   "cell_type": "markdown",
   "metadata": {
    "collapsed": true
   },
   "source": [
    "Ans :- We want to get the total set of features, feature_for_seq function assumes that the given tokens in the first argument are\n",
    "labelled by the labelseq in the second argument and thats not our objective here in the calc_factor_scores"
   ]
  },
  {
   "cell_type": "markdown",
   "metadata": {},
   "source": [
    "**Question 5.5** (6 points)\n",
    "\n",
    "Implement `calc_factor_scores`. Make up a simple example (2 or 3 words long), with a simple model with at least some \n",
    "nonzero features (you might want to use a `defaultdict(float)`, so you don't have to fill up a dict with dummy values \n",
    "for all possible transitions), and show your call to this function and the output."
   ]
  },
  {
   "cell_type": "code",
   "execution_count": 12,
   "metadata": {
    "collapsed": false
   },
   "outputs": [
    {
     "name": "stdout",
     "output_type": "stream",
     "text": [
      "(defaultdict(<type 'float'>, {('V', 'A'): 5}), [defaultdict(<type 'float'>, {'!': 0, '#': 0, '$': 0, '&': 0, ',': 0, 'A': 0, '@': 0, 'E': 0, 'D': 0, 'G': 0, 'M': 0, 'L': 0, 'O': 0, 'N': 0, 'P': 0, 'S': 0, 'R': 0, 'U': 0, 'T': 0, 'V': 20, 'Y': 0, 'X': 0, 'Z': 0, '^': 0}), defaultdict(<type 'float'>, {'!': 0, '#': 0, '$': 0, '&': 0, ',': 0, 'A': 0, '@': 0, 'E': 0, 'D': 0, 'G': 0, 'M': 0, 'L': 0, 'O': 0, 'N': 0, 'P': 0, 'S': 0, 'R': 0, 'U': 0, 'T': 0, 'V': 0, 'Y': 0, 'X': 0, 'Z': 0, '^': 0}), defaultdict(<type 'float'>, {'!': 0, '#': 0, '$': 0, '&': 0, ',': 0, 'A': 0, '@': 0, 'E': 0, 'D': 0, 'G': 0, 'M': 0, 'L': 0, 'O': 0, 'N': 0, 'P': 0, 'S': 0, 'R': 0, 'U': 0, 'T': 0, 'V': 0, 'Y': 0, 'X': 0, 'Z': 0, '^': 0})])\n"
     ]
    }
   ],
   "source": [
    "import structperc\n",
    "example_sentence = \"Test this code\"\n",
    "weights= { ('V','A'): 5, \"tag=V_curword=Test\":20}\n",
    "tokens = example_sentence.split()\n",
    "print structperc.calc_factor_scores(tokens,weights)"
   ]
  },
  {
   "cell_type": "markdown",
   "metadata": {},
   "source": [
    "**Question 5.6** (4 points)\n",
    "\n",
    "Implement `predict_seq()`, which predicts the tags for an input sentence, given a model. It will have to calculate the factor scores, then call Viterbi as a subroutine, then return the best sequence prediction. If your Viterbi implementation does not seem to be working, use the implementation of the greedy decoding\n",
    "algorithm that we provide (it uses the same inputs as `vit_starter.viterbi()`).\n"
   ]
  },
  {
   "cell_type": "code",
   "execution_count": 13,
   "metadata": {
    "collapsed": false
   },
   "outputs": [],
   "source": [
    "## Copy and paste predict_seq() function here\n",
    "def predict_seq(tokens, weights):\n",
    "    \"\"\"\n",
    "    IMPLEMENT ME!\n",
    "    takes tokens and weights, calls viterbi and returns the most likely\n",
    "    sequence of tags\n",
    "    \"\"\"\n",
    "    # once you have Ascores and Bscores, could decode with\n",
    "    # predlabels = greedy_decode(Ascores, Bscores, OUTPUT_VOCAB)\n",
    "    (Ascores, Bscores) = calc_factor_scores(tokens, weights)\n",
    "    return viterbi(Ascores, Bscores, OUTPUT_VOCAB)"
   ]
  },
  {
   "cell_type": "markdown",
   "metadata": {},
   "source": [
    "OK, you're done with the inference part.  Time to put it all together into the parameter learning algorithm and see it go. \n",
    "\n",
    "**Question 5.7** (14 points)\n",
    "\n",
    "Implement `train()`, which does structured perceptron training with the averaged perceptron algorithm. You should train on oct27.train, and evaluate on oct27.dev. You will want to first get it working without averaging, then add averaging to it. Run it for 10 iterations, and print the devset accuracy at each training iteration. Note that we provide evaluation code, which assumes `predict_seq()` and everything it depends on is working properly.\n",
    "\n",
    "For us, here's the performance we get at the first and last iterations, using the features in the starter code (just the bias term and the current word feature, without case normalization).\n",
    "\n",
    "`\n",
    "Training iteration 0\n",
    "DEV RAW EVAL: 2556/4823 = 0.5300 accuracy\n",
    "DEV AVG EVAL: 2986/4823 = 0.6191 accuracy\n",
    "...\n",
    "Training iteration 9\n",
    "DEV RAW EVAL: 3232/4823 = 0.6701 accuracy\n",
    "DEV AVG EVAL: 3341/4823 = 0.6927 accuracy\n",
    "Learned weights for 24361 features from 1000 examples\n",
    "`\n",
    "\n"
   ]
  },
  {
   "cell_type": "code",
   "execution_count": 24,
   "metadata": {
    "collapsed": false
   },
   "outputs": [
    {
     "name": "stdout",
     "output_type": "stream",
     "text": [
      "Training iteration 0\n",
      "DEV RAW EVAL: 2695/4823 = 0.5588 accuracy\n",
      "DEV AVG EVAL: 2784/4823 = 0.5772 accuracy\n",
      "Training iteration 1\n",
      "DEV RAW EVAL: 2441/4823 = 0.5061 accuracy\n",
      "DEV AVG EVAL: 2946/4823 = 0.6108 accuracy\n",
      "Training iteration 2\n",
      "DEV RAW EVAL: 2976/4823 = 0.6170 accuracy\n",
      "DEV AVG EVAL: 3057/4823 = 0.6338 accuracy\n",
      "Training iteration 3\n",
      "DEV RAW EVAL: 2740/4823 = 0.5681 accuracy\n",
      "DEV AVG EVAL: 3086/4823 = 0.6399 accuracy\n",
      "Training iteration 4\n",
      "DEV RAW EVAL: 2793/4823 = 0.5791 accuracy\n",
      "DEV AVG EVAL: 3088/4823 = 0.6403 accuracy\n",
      "Training iteration 5\n",
      "DEV RAW EVAL: 2739/4823 = 0.5679 accuracy\n",
      "DEV AVG EVAL: 3099/4823 = 0.6425 accuracy\n",
      "Training iteration 6\n",
      "DEV RAW EVAL: 3168/4823 = 0.6569 accuracy\n",
      "DEV AVG EVAL: 3114/4823 = 0.6457 accuracy\n",
      "Training iteration 7\n",
      "DEV RAW EVAL: 3050/4823 = 0.6324 accuracy\n",
      "DEV AVG EVAL: 3121/4823 = 0.6471 accuracy\n",
      "Training iteration 8\n",
      "DEV RAW EVAL: 2966/4823 = 0.6150 accuracy\n",
      "DEV AVG EVAL: 3128/4823 = 0.6486 accuracy\n",
      "Training iteration 9\n",
      "DEV RAW EVAL: 2932/4823 = 0.6079 accuracy\n",
      "DEV AVG EVAL: 3129/4823 = 0.6488 accuracy\n",
      "Learned weights for 21457 features from 1000 examples\n",
      "gold , acc 0.9840 (492/500)\n",
      "gold V acc 0.9587 (720/751)\n",
      "gold & acc 0.9560 (87/91)\n",
      "gold P acc 0.9500 (418/440)\n",
      "gold D acc 0.9295 (290/312)\n",
      "gold O acc 0.9189 (306/333)\n",
      "gold T acc 0.8056 (29/36)\n",
      "gold L acc 0.8000 (52/65)\n",
      "gold R acc 0.7081 (148/209)\n",
      "gold E acc 0.5385 (28/52)\n",
      "gold ! acc 0.5051 (50/99)\n",
      "gold A acc 0.4979 (119/239)\n",
      "gold N acc 0.4288 (283/660)\n",
      "gold $ acc 0.3488 (30/86)\n",
      "gold G acc 0.2462 (16/65)\n",
      "gold ^ acc 0.1576 (49/311)\n",
      "gold # acc 0.0962 (5/52)\n",
      "gold @ acc 0.0247 (6/243)\n",
      "gold U acc 0.0110 (1/91)\n",
      "gold S acc 0.0000 (0/5)\n",
      "gold X acc 0.0000 (0/4)\n",
      "gold Z acc 0.0000 (0/9)\n",
      "gold ~ acc 0.0000 (0/170)\n",
      "word                 gold pred\n",
      "----                 ---- ----\n",
      "@ciaranyree          @    V     *** Error\n",
      "it                   O    O   \n",
      "was                  V    V   \n",
      "on                   P    P   \n",
      "football             N    N   \n",
      "wives                N    V     *** Error\n",
      ",                    ,    ,   \n",
      "one                  $    $   \n",
      "of                   P    P   \n",
      "the                  D    D   \n",
      "players              N    V     *** Error\n",
      "and                  &    &   \n",
      "his                  D    D   \n",
      "wife                 N    N   \n",
      "own                  V    N     *** Error\n",
      "smash                ^    V     *** Error\n",
      "burger               ^    V     *** Error\n",
      "word                 gold pred\n",
      "----                 ---- ----\n",
      "RT                   ~    Y     *** Error\n",
      "@TheRealQuailman     @    V     *** Error\n",
      ":                    ~    ,     *** Error\n",
      "Currently            R    V     *** Error\n",
      "laughing             V    V   \n",
      "at                   P    P   \n",
      "Laker                ^    ^   \n",
      "haters               N    V     *** Error\n",
      ".                    ,    ,   \n"
     ]
    }
   ],
   "source": [
    "\"%autoload\"\n",
    "import structperc\n",
    "structperc.train_model()"
   ]
  },
  {
   "cell_type": "markdown",
   "metadata": {},
   "source": [
    "**Question 5.8** (6 points)\n",
    "\n",
    "Print out a report of the accuracy rate for each tag in the development set. We provided a function to do this `fancy_eval`. Look at the two sentences in the dev data, and in your writeup show and compare the gold-standard tags versus your model's predictions for them.  Consult the tagset description to understand what's going on.\n",
    "What types of things does your tagger get right and wrong?\n",
    "\n",
    "To look at the examples, you may find it convenient to use `show_predictions` (or write up the equivalent manually).  For example, after 1 iteration of training, we get this output from the first sentence in the devset.\n",
    "(After investigating TV shows that were popular in 2011 when the tweet was authored, we actually think some of the gold-standard tags in this example might be wrong.)\n",
    "\n",
    "\n",
    "              word                 gold pred\n",
    "              ----                 ---- ----\n",
    "              @ciaranyree          @    @   \n",
    "              it                   O    O   \n",
    "              was                  V    V   \n",
    "              on                   P    P   \n",
    "              football             N    ^     *** Error\n",
    "              wives                N    N   \n",
    "              ,                    ,    ,   \n",
    "              one                  $    $   \n",
    "              of                   P    P   \n",
    "              the                  D    D   \n",
    "              players              N    N   \n",
    "              and                  &    &   \n",
    "              his                  D    D   \n",
    "              wife                 N    N   \n",
    "              own                  V    V   \n",
    "              smash                ^    D     *** Error\n",
    "              burger               ^    N     *** Error\n",
    "\n",
    "\n",
    "To do this part, you may find it useful to save your model's weights with pickle.dumps (or json.dumps) and have a short analysis script that loads the model and devdata to do the reports.  If you have to re-train each time you tweak your analysis code, it can be annoying."
   ]
  },
  {
   "cell_type": "markdown",
   "metadata": {
    "collapsed": true
   },
   "source": [
    "Ans :- Please refer the above cell for above for the solution"
   ]
  },
  {
   "cell_type": "markdown",
   "metadata": {},
   "source": [
    "**Question 5.9** (OPTIONAL: 4 Extra Credit points)\n",
    "\n",
    "Improve the features of your tagger to improve accuracy on the development set. This will only require changes to `local_emission_features`. Implement at least 4 new types of features. Report your tagger's accuracy with these improvements. Please make a table that reports accuracy from adding different features. The first row should be the basic system, and the last row should be the fanciest system. Rows in between should report different combinations of features. One simple way to do this is, if you have 4 different feature types, to run 4 experiments where in each one, you add only one feature type to the basic system. For example:\n",
    "\n",
    "<img src=\"3.png\"> \n",
    "\n",
    "Hint: if you make features about the first character of a word, that helps a lot for the # (hashtag) and @ (at-mention) tags.  The URL tag is easy to get too with a similar form of character affix analysis. Character affixes help lots of other tags too. Also, if you have a feature that looks at the word at position $t$, you can make new versions of it that look to the left or right of the $t^{th}$ position in question: for example, 'word_to_left=the'.\n"
   ]
  },
  {
   "cell_type": "code",
   "execution_count": null,
   "metadata": {
    "collapsed": true
   },
   "outputs": [],
   "source": []
  }
 ],
 "metadata": {
  "anaconda-cloud": {},
  "kernelspec": {
   "display_name": "Python [conda root]",
   "language": "python",
   "name": "conda-root-py"
  },
  "language_info": {
   "codemirror_mode": {
    "name": "ipython",
    "version": 2
   },
   "file_extension": ".py",
   "mimetype": "text/x-python",
   "name": "python",
   "nbconvert_exporter": "python",
   "pygments_lexer": "ipython2",
   "version": "2.7.12"
  }
 },
 "nbformat": 4,
 "nbformat_minor": 1
}
